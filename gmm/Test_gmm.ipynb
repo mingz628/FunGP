{
 "cells": [
  {
   "cell_type": "code",
   "execution_count": 1,
   "id": "f4e4e04d",
   "metadata": {},
   "outputs": [],
   "source": [
    "from sklearn.decomposition import PCA\n",
    "from sklearn.mixture import GaussianMixture\n",
    "from sklearn.cluster import SpectralClustering\n",
    "import numpy as np\n",
    "import matplotlib.pyplot as plt\n",
    "import scipy\n",
    "from scipy import spatial, interpolate\n",
    "from scipy.stats import multivariate_normal\n",
    "from scipy.interpolate import LSQUnivariateSpline\n",
    "from scipy.interpolate import BSpline, make_interp_spline\n",
    "from sklearn.model_selection import train_test_split\n",
    "import pandas as pd"
   ]
  },
  {
   "cell_type": "code",
   "execution_count": 2,
   "id": "2956bd32",
   "metadata": {},
   "outputs": [],
   "source": [
    "import skfda\n",
    "from skfda.preprocessing.dim_reduction.projection import FPCA\n",
    "from skfda.representation.basis import BSpline, FDataBasis\n",
    "from sklearn.model_selection import cross_val_score\n",
    "from skfda.ml.regression import KNeighborsRegressor"
   ]
  },
  {
   "cell_type": "code",
   "execution_count": 3,
   "id": "7190febf",
   "metadata": {},
   "outputs": [],
   "source": [
    "import numpy as np\n",
    "import scipy.stats as stats\n",
    "from scipy.integrate import quad"
   ]
  },
  {
   "cell_type": "code",
   "execution_count": 4,
   "id": "be835be2",
   "metadata": {},
   "outputs": [],
   "source": [
    "class fdata_gmm:\n",
    "    \"\"\"\n",
    "    A class that performs clustering on projection coefficients using Gaussian Mixture Models (GMMs).\n",
    "\n",
    "    Attributes:\n",
    "        projection_coefficients (ndarray): The input data in the form of projection coefficients.\n",
    "        n_components (int): The number of mixture components to use in the GMM.\n",
    "        covariance_type (str): The type of covariance matrix to use in the GMM (e.g., 'full', 'tied', 'diag', 'spherical').\n",
    "        clustering_method (str): The clustering method to apply after fitting the GMM (e.g., 'kmeans').\n",
    "\n",
    "    Returns:\n",
    "        membership_indicator_matrix (ndarray): A binary membership indicator matrix that indicates the cluster membership of each data point.\n",
    "        cluster_membership (ndarray): An array of cluster membership values that indicates the cluster membership of each data point.\n",
    "    \"\"\"\n",
    "    def __init__(self, n_components, covariance_type='full', clustering_method='kmeans',  random_state=None):\n",
    "        self.n_components = n_components\n",
    "        self.covariance_type = covariance_type\n",
    "        self.clustering_method = clustering_method\n",
    "        self.random_state = random_state\n",
    "        self.gmms = []\n",
    "\n",
    "    def fit(self, X):\n",
    "        \"\"\"\n",
    "        Fit the Gaussian Mixture Model for the data.\n",
    "\n",
    "        Returns: \n",
    "            A list of fitted GMMs for each row of the data.\n",
    "        \"\"\"\n",
    "        self.projection_coefficients = X\n",
    "        gmms = []\n",
    "        for row in self.projection_coefficients:\n",
    "            gmm = GaussianMixture(\n",
    "                n_components=self.n_components, \n",
    "                covariance_type=self.covariance_type,\n",
    "                random_state=self.random_state\n",
    "            )\n",
    "            gmm.fit(row.reshape(-1, 1))\n",
    "            gmms.append(gmm)\n",
    "            \n",
    "        self.gmms = gmms\n",
    "        return gmms\n",
    "    \n",
    "    def predict(self, samples):\n",
    "        \"\"\"\n",
    "        Predicts the component labels for each sample in samples using the Gaussian Mixture Models.\n",
    "\n",
    "        \"\"\"\n",
    "        predictions = []\n",
    "        for model, sample in zip(self.models, samples):\n",
    "            pred = model.predict(sample.reshape(1, -1))\n",
    "            predictions.append(pred[0])\n",
    "        return np.array(predictions)\n",
    "\n",
    "    def cluster_membership_matrix(self):\n",
    "        \"\"\"\n",
    "        Compute the cluster membership matrix using the fitted GMMs.\n",
    "\n",
    "        Returns:  \n",
    "            (ndarray) The cluster membership matrix.\n",
    "        \"\"\"\n",
    "        membership_matrix = np.array([gmm.predict_proba(row.reshape(-1, 1)) for row, gmm in zip(self.projection_coefficients, self.gmms)])\n",
    "        self.membership_matrix = membership_matrix\n",
    "        return membership_matrix\n",
    "\n",
    "    def binary_membership_matrix(self):\n",
    "        \"\"\"\n",
    "        Construct a binary membership indicator matrix from the cluster membership matrix.\n",
    "\n",
    "        Returns:  \n",
    "            (ndarray) The binary membership matrix.\n",
    "        \"\"\"\n",
    "        membership_matrix = self.membership_matrix\n",
    "        \n",
    "        binary_matrix = np.zeros_like(membership_matrix)\n",
    "        max_indices = np.argmax(membership_matrix, axis=2)\n",
    "        x_indices, y_indices = np.meshgrid(np.arange(membership_matrix.shape[0]), np.arange(membership_matrix.shape[1]), indexing='ij')\n",
    "        binary_matrix[x_indices, y_indices, max_indices] = 1\n",
    "        \n",
    "        self.binary_matrix = binary_matrix\n",
    "        return binary_matrix\n",
    "\n",
    "    def calculate_weights(self):\n",
    "        \"\"\"\n",
    "        Calculate the weights for each column of data.\n",
    "\n",
    "        Returns: \n",
    "            (ndarray) The weight matrix.\n",
    "        \"\"\"\n",
    "\n",
    "        gmms = self.gmms\n",
    "        weight_matrix = np.zeros((len(gmms), self.n_components))\n",
    "\n",
    "        for i, gmm in enumerate(gmms):\n",
    "            for j in range(self.n_components):\n",
    "                weight_matrix[i, j] = gmm.weights_[j] * gmm.score_samples(self.projection_coefficients[i].reshape(-1, 1))[j]\n",
    "\n",
    "        weight_matrix = weight_matrix / weight_matrix.sum(axis=1, keepdims=True)\n",
    "        return weight_matrix"
   ]
  },
  {
   "cell_type": "code",
   "execution_count": 5,
   "id": "5b47c869",
   "metadata": {},
   "outputs": [],
   "source": [
    "dataset = skfda.datasets.fetch_growth()\n",
    "fd = dataset['data']\n",
    "y = dataset['target']"
   ]
  },
  {
   "cell_type": "code",
   "execution_count": 6,
   "id": "335aac56",
   "metadata": {},
   "outputs": [],
   "source": [
    "X = fd.data_matrix.reshape(fd.n_samples, -1)"
   ]
  },
  {
   "cell_type": "code",
   "execution_count": 7,
   "id": "b28a491b",
   "metadata": {},
   "outputs": [],
   "source": [
    "gmm = fdata_gmm(3, 'full')\n",
    "gmms = gmm.fit(X)"
   ]
  },
  {
   "cell_type": "code",
   "execution_count": 8,
   "id": "12a49812",
   "metadata": {},
   "outputs": [
    {
     "data": {
      "text/plain": [
       "array([[[9.50137567e-001, 0.00000000e+000, 4.98624331e-002],\n",
       "        [9.71070676e-001, 0.00000000e+000, 2.89293238e-002],\n",
       "        [9.70489768e-001, 0.00000000e+000, 2.95102321e-002],\n",
       "        ...,\n",
       "        [3.75579516e-206, 9.66191746e-001, 3.38082542e-002],\n",
       "        [5.79549614e-208, 9.58911049e-001, 4.10889509e-002],\n",
       "        [8.49489022e-211, 9.32078156e-001, 6.79218441e-002]],\n",
       "\n",
       "       [[1.09826563e-002, 9.89017344e-001, 0.00000000e+000],\n",
       "        [9.71705168e-003, 9.90282948e-001, 0.00000000e+000],\n",
       "        [1.27789461e-002, 9.87221054e-001, 0.00000000e+000],\n",
       "        ...,\n",
       "        [1.11375986e-001, 1.33481466e-074, 8.88624014e-001],\n",
       "        [1.18092926e-001, 1.34446143e-076, 8.81907074e-001],\n",
       "        [1.64767309e-001, 1.67481600e-078, 8.35232691e-001]],\n",
       "\n",
       "       [[9.76327289e-001, 2.36727107e-002, 0.00000000e+000],\n",
       "        [9.78961026e-001, 2.10389738e-002, 0.00000000e+000],\n",
       "        [9.75280566e-001, 2.47194340e-002, 0.00000000e+000],\n",
       "        ...,\n",
       "        [2.17001239e-062, 5.15077066e-002, 9.48492293e-001],\n",
       "        [9.58269333e-063, 5.81769488e-002, 9.41823051e-001],\n",
       "        [4.34550161e-063, 6.76850518e-002, 9.32314948e-001]],\n",
       "\n",
       "       ...,\n",
       "\n",
       "       [[0.00000000e+000, 9.99998926e-001, 1.07390864e-006],\n",
       "        [0.00000000e+000, 9.99994360e-001, 5.63966505e-006],\n",
       "        [0.00000000e+000, 9.99971315e-001, 2.86853317e-005],\n",
       "        ...,\n",
       "        [9.56797850e-001, 1.17519409e-007, 4.32020330e-002],\n",
       "        [9.52272751e-001, 1.21891981e-007, 4.77271274e-002],\n",
       "        [9.40847421e-001, 1.36029846e-007, 5.91524434e-002]],\n",
       "\n",
       "       [[0.00000000e+000, 9.99980720e-001, 1.92802263e-005],\n",
       "        [0.00000000e+000, 9.99960694e-001, 3.93058093e-005],\n",
       "        [0.00000000e+000, 9.99928938e-001, 7.10616828e-005],\n",
       "        ...,\n",
       "        [9.63568627e-001, 3.50651500e-011, 3.64313726e-002],\n",
       "        [9.60597289e-001, 3.62396451e-011, 3.94027106e-002],\n",
       "        [9.52840796e-001, 3.96014515e-011, 4.71592038e-002]],\n",
       "\n",
       "       [[0.00000000e+000, 9.99124747e-001, 8.75253280e-004],\n",
       "        [0.00000000e+000, 9.98837473e-001, 1.16252651e-003],\n",
       "        [0.00000000e+000, 9.97928087e-001, 2.07191311e-003],\n",
       "        ...,\n",
       "        [9.69212355e-001, 1.11087226e-018, 3.07876448e-002],\n",
       "        [9.63192145e-001, 1.02677716e-018, 3.68078551e-002],\n",
       "        [9.52758177e-001, 1.01811477e-018, 4.72418229e-002]]])"
      ]
     },
     "execution_count": 8,
     "metadata": {},
     "output_type": "execute_result"
    }
   ],
   "source": [
    "gmm.cluster_membership_matrix()"
   ]
  },
  {
   "cell_type": "code",
   "execution_count": 9,
   "id": "910129d6",
   "metadata": {},
   "outputs": [
    {
     "data": {
      "text/plain": [
       "array([[[1., 0., 0.],\n",
       "        [1., 0., 0.],\n",
       "        [1., 0., 0.],\n",
       "        ...,\n",
       "        [0., 1., 0.],\n",
       "        [0., 1., 0.],\n",
       "        [0., 1., 0.]],\n",
       "\n",
       "       [[0., 1., 0.],\n",
       "        [0., 1., 0.],\n",
       "        [0., 1., 0.],\n",
       "        ...,\n",
       "        [0., 0., 1.],\n",
       "        [0., 0., 1.],\n",
       "        [0., 0., 1.]],\n",
       "\n",
       "       [[1., 0., 0.],\n",
       "        [1., 0., 0.],\n",
       "        [1., 0., 0.],\n",
       "        ...,\n",
       "        [0., 0., 1.],\n",
       "        [0., 0., 1.],\n",
       "        [0., 0., 1.]],\n",
       "\n",
       "       ...,\n",
       "\n",
       "       [[0., 1., 0.],\n",
       "        [0., 1., 0.],\n",
       "        [0., 1., 0.],\n",
       "        ...,\n",
       "        [1., 0., 0.],\n",
       "        [1., 0., 0.],\n",
       "        [1., 0., 0.]],\n",
       "\n",
       "       [[0., 1., 0.],\n",
       "        [0., 1., 0.],\n",
       "        [0., 1., 0.],\n",
       "        ...,\n",
       "        [1., 0., 0.],\n",
       "        [1., 0., 0.],\n",
       "        [1., 0., 0.]],\n",
       "\n",
       "       [[0., 1., 0.],\n",
       "        [0., 1., 0.],\n",
       "        [0., 1., 0.],\n",
       "        ...,\n",
       "        [1., 0., 0.],\n",
       "        [1., 0., 0.],\n",
       "        [1., 0., 0.]]])"
      ]
     },
     "execution_count": 9,
     "metadata": {},
     "output_type": "execute_result"
    }
   ],
   "source": [
    "gmm.binary_membership_matrix()"
   ]
  },
  {
   "cell_type": "code",
   "execution_count": 10,
   "id": "8b8267d3",
   "metadata": {},
   "outputs": [],
   "source": [
    "def gaussian_pdf(x, mean, std_dev):\n",
    "    return stats.norm.pdf(x, mean, std_dev)"
   ]
  },
  {
   "cell_type": "code",
   "execution_count": 11,
   "id": "441fa87d",
   "metadata": {},
   "outputs": [],
   "source": [
    "def misclassification_probability(mean_k, std_dev_k, pi_k, mean_r, std_dev_r, pi_r):\n",
    "    def integrand(x):\n",
    "        pdf_k = gaussian_pdf(x, mean_k, std_dev_k)\n",
    "        pdf_r = gaussian_pdf(x, mean_r, std_dev_r)\n",
    "        return pdf_k * pi_r / (pi_k * pdf_k + pi_r * pdf_r)\n",
    "    \n",
    "    w_rk, _ = quad(integrand, -np.inf, np.inf)\n",
    "    return w_rk"
   ]
  },
  {
   "cell_type": "code",
   "execution_count": 12,
   "id": "5e66c9a2",
   "metadata": {},
   "outputs": [
    {
     "name": "stdout",
     "output_type": "stream",
     "text": [
      "Misclassification probability w_rk: nan\n"
     ]
    },
    {
     "name": "stderr",
     "output_type": "stream",
     "text": [
      "C:\\Users\\Zhaox\\AppData\\Local\\Temp\\ipykernel_12608\\337048511.py:5: RuntimeWarning: invalid value encountered in double_scalars\n",
      "  return pdf_k * pi_r / (pi_k * pdf_k + pi_r * pdf_r)\n",
      "C:\\Users\\Zhaox\\AppData\\Local\\Temp\\ipykernel_12608\\337048511.py:7: IntegrationWarning: The occurrence of roundoff error is detected, which prevents \n",
      "  the requested tolerance from being achieved.  The error may be \n",
      "  underestimated.\n",
      "  w_rk, _ = quad(integrand, -np.inf, np.inf)\n"
     ]
    }
   ],
   "source": [
    "mean_k = 0\n",
    "std_dev_k = 1\n",
    "pi_k = 0.5\n",
    "\n",
    "mean_r = 0\n",
    "std_dev_r = 1\n",
    "pi_r = 0.5\n",
    "\n",
    "w_rk = misclassification_probability(mean_k, std_dev_k, pi_k, mean_r, std_dev_r, pi_r)\n",
    "print(\"Misclassification probability w_rk:\", w_rk)"
   ]
  },
  {
   "cell_type": "code",
   "execution_count": 13,
   "id": "1fb00a7a",
   "metadata": {},
   "outputs": [],
   "source": [
    "# Define parameters for mixture components\n",
    "p_i = 0.6\n",
    "p_j = 0.4\n",
    "mu_i = np.array([1, 2])\n",
    "mu_j = np.array([4, 3])\n",
    "Sigma_i = np.array([[2, 1], [1, 2]])\n",
    "Sigma_j = np.array([[3, 1], [1, 3]])\n",
    "\n",
    "# Define density functions for mixture components\n",
    "def phi_i(x):\n",
    "    return multivariate_normal.pdf(x, mean=mu_i, cov=Sigma_i)\n",
    "\n",
    "def phi_j(x):\n",
    "    return multivariate_normal.pdf(x, mean=mu_j, cov=Sigma_j)"
   ]
  },
  {
   "cell_type": "code",
   "execution_count": 14,
   "id": "4719cf4f",
   "metadata": {},
   "outputs": [],
   "source": [
    "def w_i_given_j(x):\n",
    "    numerator = p_i * phi_i(x)\n",
    "    denominator = p_i * phi_i(x) + p_j * phi_j(x)\n",
    "    return numerator / denominator"
   ]
  },
  {
   "cell_type": "code",
   "execution_count": 15,
   "id": "4ccc981d",
   "metadata": {},
   "outputs": [
    {
     "name": "stdout",
     "output_type": "stream",
     "text": [
      "for instance [2 3] : 0.7879\n"
     ]
    }
   ],
   "source": [
    "x = np.array([2, 3])\n",
    "w = w_i_given_j(x)\n",
    "print(f\"for instance {x} : {w:.4f}\")"
   ]
  },
  {
   "cell_type": "code",
   "execution_count": 16,
   "id": "11a837c3",
   "metadata": {},
   "outputs": [],
   "source": [
    "# from Test_overlap.ipynb import overlap"
   ]
  }
 ],
 "metadata": {
  "kernelspec": {
   "display_name": "Python 3 (ipykernel)",
   "language": "python",
   "name": "python3"
  },
  "language_info": {
   "codemirror_mode": {
    "name": "ipython",
    "version": 3
   },
   "file_extension": ".py",
   "mimetype": "text/x-python",
   "name": "python",
   "nbconvert_exporter": "python",
   "pygments_lexer": "ipython3",
   "version": "3.9.7"
  }
 },
 "nbformat": 4,
 "nbformat_minor": 5
}
